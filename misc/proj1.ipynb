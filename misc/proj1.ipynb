{
 "cells": [
  {
   "cell_type": "code",
   "execution_count": 135,
   "metadata": {},
   "outputs": [],
   "source": [
    "using MLDatasets, Printf\n",
    "using SimpleChains, Flux"
   ]
  },
  {
   "cell_type": "code",
   "execution_count": 100,
   "metadata": {},
   "outputs": [
    {
     "data": {
      "text/plain": [
       "10"
      ]
     },
     "metadata": {},
     "output_type": "display_data"
    }
   ],
   "source": [
    "num_image_classes = 10\n",
    "learning_rate = 3e-4\n",
    "num_epochs = 10"
   ]
  },
  {
   "cell_type": "code",
   "execution_count": 101,
   "metadata": {},
   "outputs": [
    {
     "data": {
      "text/plain": [
       "display_loss (generic function with 1 method)"
      ]
     },
     "metadata": {},
     "output_type": "display_data"
    }
   ],
   "source": [
    "function get_data(split)\n",
    "    x, y = MLDatasets.MNIST(split)[:]\n",
    "    (reshape(x, 28 * 28 * 1, :), UInt32.(y .+ 1))\n",
    "end\n",
    "\n",
    "function display_loss(accuracy, loss)\n",
    "    @printf(\"    training accuracy %.2f, loss %.4f\\n\", 100 * accuracy, loss)\n",
    "end"
   ]
  },
  {
   "cell_type": "code",
   "execution_count": 102,
   "metadata": {},
   "outputs": [],
   "source": [
    "xtrain, ytrain = get_data(:train);\n",
    "xtest, ytest = get_data(:test);"
   ]
  },
  {
   "cell_type": "code",
   "execution_count": 139,
   "metadata": {},
   "outputs": [
    {
     "data": {
      "text/plain": [
       "σ (generic function with 1 method)"
      ]
     },
     "metadata": {},
     "output_type": "display_data"
    }
   ],
   "source": [
    "σ(x) = max.(x,0)"
   ]
  },
  {
   "cell_type": "code",
   "execution_count": 146,
   "metadata": {},
   "outputs": [
    {
     "data": {
      "text/plain": [
       "sc_model (generic function with 1 method)"
      ]
     },
     "metadata": {},
     "output_type": "display_data"
    }
   ],
   "source": [
    "function sc_model() \n",
    "    return SimpleChain(\n",
    "                static(28 * 28),\n",
    "                TurboDense(σ, 32),\n",
    "                TurboDense(identity, 10))\n",
    "end\n",
    "\n",
    "# function sc_model() \n",
    "#     return SimpleChain(\n",
    "#                 static(28 * 28),\n",
    "#                 TurboDense{true}(σ, 32),\n",
    "#                 TurboDense{true}(identity, 10))\n",
    "# end"
   ]
  },
  {
   "cell_type": "code",
   "execution_count": 147,
   "metadata": {},
   "outputs": [
    {
     "name": "stdout",
     "output_type": "stream",
     "text": [
      "    training accuracy 94.07, loss 0.2096\n",
      "    training accuracy 93.85, loss 0.2112\n"
     ]
    }
   ],
   "source": [
    "model = sc_model()\n",
    "sc_loss = SimpleChains.add_loss(model, LogitCrossEntropyLoss(ytrain))\n",
    "\n",
    "G = SimpleChains.alloc_threaded_grad(sc_loss)\n",
    "p = SimpleChains.init_params(model)\n",
    "\n",
    "opt = SimpleChains.ADAM(learning_rate)\n",
    "SimpleChains.train_batched!(G, p, sc_loss, xtrain, opt, num_epochs)\n",
    "\n",
    "train_acc, train_loss = SimpleChains.accuracy_and_loss(sc_loss, xtrain, ytrain, p)\n",
    "display_loss(train_acc, train_loss)\n",
    "\n",
    "test_acc, test_loss = SimpleChains.accuracy_and_loss(sc_loss, xtest, ytest, p)\n",
    "display_loss(test_acc, test_loss)"
   ]
  },
  {
   "cell_type": "code",
   "execution_count": 148,
   "metadata": {},
   "outputs": [],
   "source": [
    "# 784*32 + 32 + 32*10 + 10  # this is with bias\n",
    "# 785 * 32 + 33*10"
   ]
  },
  {
   "cell_type": "code",
   "execution_count": 149,
   "metadata": {},
   "outputs": [
    {
     "data": {
      "text/plain": [
       "(25450,)"
      ]
     },
     "metadata": {},
     "output_type": "display_data"
    }
   ],
   "source": [
    "size(p)"
   ]
  },
  {
   "cell_type": "code",
   "execution_count": 150,
   "metadata": {},
   "outputs": [],
   "source": [
    "x = xtrain[:,1];"
   ]
  },
  {
   "cell_type": "code",
   "execution_count": 151,
   "metadata": {},
   "outputs": [
    {
     "data": {
      "text/plain": [
       "10-element StaticArraysCore.SVector{10, Float32} with indices SOneTo(10):\n",
       "  -1.3173958\n",
       "  -5.99278\n",
       "  -2.911115\n",
       "   4.409305\n",
       " -10.200331\n",
       "   5.847276\n",
       "  -3.1492841\n",
       "   1.5898215\n",
       "  -4.785516\n",
       "  -3.0534124"
      ]
     },
     "metadata": {},
     "output_type": "display_data"
    }
   ],
   "source": [
    "model(x,p)"
   ]
  },
  {
   "cell_type": "code",
   "execution_count": 152,
   "metadata": {},
   "outputs": [
    {
     "data": {
      "text/plain": [
       "10-element Vector{Float32}:\n",
       "  -1.3173966\n",
       "  -5.99278\n",
       "  -2.9111135\n",
       "   4.4093046\n",
       " -10.200329\n",
       "   5.8472757\n",
       "  -3.149284\n",
       "   1.5898207\n",
       "  -4.785516\n",
       "  -3.0534134"
      ]
     },
     "metadata": {},
     "output_type": "display_data"
    }
   ],
   "source": [
    "W1, W2 = SimpleChains.weights(model, p)\n",
    "b1, b2 = SimpleChains.biases(model, p)\n",
    "\n",
    "W2*σ(W1*x + b1) + b2"
   ]
  },
  {
   "cell_type": "code",
   "execution_count": 155,
   "metadata": {},
   "outputs": [
    {
     "data": {
      "text/plain": [
       "10-element Vector{Float32}:\n",
       "  -1.3173966\n",
       "  -5.99278\n",
       "  -2.9111135\n",
       "   4.4093046\n",
       " -10.200329\n",
       "   5.8472757\n",
       "  -3.149284\n",
       "   1.5898207\n",
       "  -4.785516\n",
       "  -3.0534134"
      ]
     },
     "metadata": {},
     "output_type": "display_data"
    }
   ],
   "source": [
    "W2*Flux.relu(W1*x + b1) + b2"
   ]
  },
  {
   "cell_type": "code",
   "execution_count": 156,
   "metadata": {},
   "outputs": [
    {
     "data": {
      "text/plain": [
       "10-element Vector{Float32}:\n",
       "  -1.3173966\n",
       "  -5.99278\n",
       "  -2.9111135\n",
       "   4.4093046\n",
       " -10.200329\n",
       "   5.8472757\n",
       "  -3.149284\n",
       "   1.5898207\n",
       "  -4.785516\n",
       "  -3.0534134"
      ]
     },
     "metadata": {},
     "output_type": "display_data"
    }
   ],
   "source": [
    "# d = Float32.(p)\n",
    "# W1 = reshape(d[1:32*784], 32,784)\n",
    "# b1 = d[32*784+1 : 32*784+32]\n",
    "# W2 = reshape(d[32*784+32+1:32*784+32+32*10], 10, 32)\n",
    "# b2 = d[end-9:end]\n",
    "\n",
    "# W2*σ(W1*x + b1) + b2"
   ]
  },
  {
   "cell_type": "code",
   "execution_count": null,
   "metadata": {},
   "outputs": [],
   "source": [
    "# begin\n",
    "#     for i in 1:2\n",
    "#         println(\"SimpleChains run #$i\")\n",
    "#         @time \"  gradient buffer allocation\" G = SimpleChains.alloc_threaded_grad(sc_loss)\n",
    "#         @time \"  parameter initialization\" p = SimpleChains.init_params(model)\n",
    "        \n",
    "#         # @time \"  forward pass\" model(xtrain, p)\n",
    "#         # g = similar(p);\n",
    "#         # @time \"  valgrad!\" valgrad!(g, sc_loss, xtrain, p)\n",
    "    \n",
    "#         opt = SimpleChains.ADAM(learning_rate)\n",
    "#         @time \"  train $(num_epochs) epochs\" SimpleChains.train_batched!(G, p, sc_loss, xtrain, opt, num_epochs)\n",
    "    \n",
    "#         @time \"  compute training accuracy and loss\" train_acc, train_loss = SimpleChains.accuracy_and_loss(sc_loss, xtrain, ytrain, p)\n",
    "#         display_loss(train_acc, train_loss)\n",
    "    \n",
    "#         @time \"  compute test accuracy and loss\" test_acc, test_loss = SimpleChains.accuracy_and_loss(sc_loss, xtest, ytest, p)\n",
    "#         display_loss(test_acc, test_loss)\n",
    "    \n",
    "#         println(\"------------------------------------\")\n",
    "#     end\n",
    "# end"
   ]
  },
  {
   "cell_type": "code",
   "execution_count": 161,
   "metadata": {},
   "outputs": [
    {
     "data": {
      "text/plain": [
       "TurboDense static(32) with bias.\n",
       "Activation layer applying: σ"
      ]
     },
     "metadata": {},
     "output_type": "display_data"
    }
   ],
   "source": [
    "# model.layers[1]"
   ]
  },
  {
   "cell_type": "code",
   "execution_count": null,
   "metadata": {},
   "outputs": [],
   "source": []
  }
 ],
 "metadata": {
  "kernelspec": {
   "display_name": "Julia 1.8.2",
   "language": "julia",
   "name": "julia-1.8"
  },
  "language_info": {
   "file_extension": ".jl",
   "mimetype": "application/julia",
   "name": "julia",
   "version": "1.8.2"
  },
  "orig_nbformat": 4
 },
 "nbformat": 4,
 "nbformat_minor": 2
}
