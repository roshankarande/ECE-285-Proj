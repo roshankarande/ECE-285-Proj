{
 "cells": [
  {
   "cell_type": "code",
   "execution_count": 1,
   "metadata": {},
   "outputs": [],
   "source": [
    "using SimpleChains\n",
    "using MLDatasets, Printf\n",
    "using Flux\n",
    "using Flux.Data: DataLoader\n",
    "using Flux.Optimise: Optimiser, WeightDecay\n",
    "using Flux: onehotbatch, onecold\n",
    "using Flux.Losses: logitcrossentropy\n",
    "using Statistics, Random\n",
    "using CUDA "
   ]
  },
  {
   "cell_type": "code",
   "execution_count": 2,
   "metadata": {},
   "outputs": [
    {
     "data": {
      "text/plain": [
       "10"
      ]
     },
     "metadata": {},
     "output_type": "display_data"
    }
   ],
   "source": [
    "num_image_classes = 10\n",
    "learning_rate = 3e-4\n",
    "num_epochs = 10"
   ]
  },
  {
   "cell_type": "code",
   "execution_count": 3,
   "metadata": {},
   "outputs": [
    {
     "data": {
      "text/plain": [
       "display_loss (generic function with 1 method)"
      ]
     },
     "metadata": {},
     "output_type": "display_data"
    }
   ],
   "source": [
    "function get_data(split)\n",
    "    x, y = MLDatasets.MNIST(split)[:]\n",
    "    (reshape(x, 28 * 28 * 1, :), UInt32.(y .+ 1))\n",
    "end\n",
    "\n",
    "function display_loss(accuracy, loss)\n",
    "    @printf(\"    training accuracy %.2f, loss %.4f\\n\", 100 * accuracy, loss)\n",
    "end"
   ]
  },
  {
   "cell_type": "code",
   "execution_count": 4,
   "metadata": {},
   "outputs": [],
   "source": [
    "xtrain, ytrain = get_data(:train);\n",
    "xtest, ytest = get_data(:test);"
   ]
  },
  {
   "cell_type": "code",
   "execution_count": 7,
   "metadata": {},
   "outputs": [
    {
     "data": {
      "text/plain": [
       "sc_model (generic function with 1 method)"
      ]
     },
     "metadata": {},
     "output_type": "display_data"
    }
   ],
   "source": [
    "\n",
    "# simplechains model and loss\n",
    "function sc_model() \n",
    "    return SimpleChain(\n",
    "                (static(28 * 28)),\n",
    "                TurboDense(SimpleChains.relu, 32),\n",
    "                TurboDense(identity, 10))\n",
    "end"
   ]
  },
  {
   "cell_type": "code",
   "execution_count": 37,
   "metadata": {},
   "outputs": [
    {
     "name": "stdout",
     "output_type": "stream",
     "text": [
      "SimpleChains run #1\n",
      "  gradient buffer allocation: 0.000010 seconds (3 allocations: 596.781 KiB)\n",
      "  parameter initialization: 0.000038 seconds (1 allocation: 99.500 KiB)\n",
      "  forward pass: 0.045913 seconds (1 allocation: 32 bytes)"
     ]
    },
    {
     "name": "stdout",
     "output_type": "stream",
     "text": [
      "\n",
      "  valgrad!: 0.391498 seconds (32.56 k allocations: 1.800 MiB, 5.05% compilation time)\n"
     ]
    },
    {
     "name": "stdout",
     "output_type": "stream",
     "text": [
      "  train 10 epochs: 0.398857 seconds\n",
      "  compute training accuracy and loss: 0.045554 seconds (17 allocations: 416 bytes)\n",
      "    training accuracy 93.92, loss 0.2161\n",
      "  compute test accuracy and loss: 0.008143 seconds (17 allocations: 416 bytes)\n",
      "    training accuracy 93.88, loss 0.2170\n",
      "------------------------------------\n",
      "SimpleChains run #2\n",
      "  gradient buffer allocation: 0.000008 seconds (3 allocations: 596.781 KiB)\n",
      "  parameter initialization: 0.000039 seconds (1 allocation: 99.500 KiB)\n",
      "  forward pass: 0.039509 seconds (1 allocation: 32 bytes)\n"
     ]
    },
    {
     "name": "stdout",
     "output_type": "stream",
     "text": [
      "  valgrad!: 0.407642 seconds (1 allocation: 16 bytes)\n"
     ]
    },
    {
     "name": "stdout",
     "output_type": "stream",
     "text": [
      "  train 10 epochs: 0.394469 seconds\n",
      "  compute training accuracy and loss: 0.050877 seconds (22 allocations: 576 bytes)\n",
      "    training accuracy 94.06, loss 0.2135\n",
      "  compute test accuracy and loss: 0.007717 seconds (17 allocations: 416 bytes)\n",
      "    training accuracy 93.89, loss 0.2151\n",
      "------------------------------------\n"
     ]
    }
   ],
   "source": [
    "model = sc_model()\n",
    "sc_loss = SimpleChains.add_loss(model, LogitCrossEntropyLoss(ytrain))\n",
    "\n",
    "for i in 1:2\n",
    "    println(\"SimpleChains run #$i\")\n",
    "    @time \"  gradient buffer allocation\" G = SimpleChains.alloc_threaded_grad(sc_loss)\n",
    "    @time \"  parameter initialization\" p = SimpleChains.init_params(model)\n",
    "    \n",
    "    @time \"  forward pass\" model(xtrain, p)\n",
    "    g = similar(p);\n",
    "    @time \"  valgrad!\" valgrad!(g, sc_loss, xtrain, p)\n",
    "\n",
    "    opt = SimpleChains.ADAM(learning_rate)\n",
    "    @time \"  train $(num_epochs) epochs\" SimpleChains.train_batched!(G, p, sc_loss, xtrain, opt, num_epochs)\n",
    "\n",
    "    @time \"  compute training accuracy and loss\" train_acc, train_loss = SimpleChains.accuracy_and_loss(sc_loss, xtrain, ytrain, p)\n",
    "    display_loss(train_acc, train_loss)\n",
    "\n",
    "    @time \"  compute test accuracy and loss\" test_acc, test_loss = SimpleChains.accuracy_and_loss(sc_loss, xtest, ytest, p)\n",
    "    display_loss(test_acc, test_loss)\n",
    "\n",
    "    println(\"------------------------------------\")\n",
    "end"
   ]
  },
  {
   "cell_type": "code",
   "execution_count": 12,
   "metadata": {},
   "outputs": [],
   "source": [
    "## Flux Model"
   ]
  },
  {
   "cell_type": "code",
   "execution_count": 13,
   "metadata": {},
   "outputs": [
    {
     "name": "stderr",
     "output_type": "stream",
     "text": [
      "┌ Info: Flux training on GPU\n",
      "└ @ Main c:\\Users\\heyia\\Desktop\\current-code\\285\\project\\main\\main.ipynb:4\n"
     ]
    },
    {
     "data": {
      "text/plain": [
       "gpu (generic function with 1 method)"
      ]
     },
     "metadata": {},
     "output_type": "display_data"
    }
   ],
   "source": [
    "use_cuda = CUDA.functional()\n",
    "batchsize = 0\n",
    "device = if use_cuda\n",
    "  @info \"Flux training on GPU\"\n",
    "  batchsize = 2048 \n",
    "  gpu\n",
    "else\n",
    "  @info \"Flux training on CPU\"\n",
    "  batchsize = 96 * Threads.nthreads()\n",
    "  cpu\n",
    "end"
   ]
  },
  {
   "cell_type": "code",
   "execution_count": 32,
   "metadata": {},
   "outputs": [
    {
     "data": {
      "text/plain": [
       "5-element DataLoader(::Tuple{CuArray{Float32, 2, CUDA.Mem.DeviceBuffer}, OneHotArrays.OneHotMatrix{UInt32, CuArray{UInt32, 1, CUDA.Mem.DeviceBuffer}}}, batchsize=2048)\n",
       "  with first element:\n",
       "  (784×2048 CuArray{Float32, 2, CUDA.Mem.DeviceBuffer}, 10×2048 OneHotMatrix(::CuArray{UInt32, 1, CUDA.Mem.DeviceBuffer}) with eltype Bool,)"
      ]
     },
     "metadata": {},
     "output_type": "display_data"
    }
   ],
   "source": [
    "function create_loader(x, y, batch_size, shuffle)\n",
    "    y = onehotbatch(y, 1:num_image_classes)\n",
    "    DataLoader((device(x), device(y)), batchsize = batch_size, shuffle = shuffle)\n",
    "  end\n",
    "\n",
    "train_loader = create_loader(xtrain, ytrain, batchsize, true)\n",
    "test_loader = create_loader(xtest, ytest, batchsize, false)"
   ]
  },
  {
   "cell_type": "code",
   "execution_count": 33,
   "metadata": {},
   "outputs": [
    {
     "data": {
      "text/plain": [
       "flux_loss (generic function with 1 method)"
      ]
     },
     "metadata": {},
     "output_type": "display_data"
    }
   ],
   "source": [
    "function flux_model()\n",
    "    return Chain(\n",
    "        Dense(28*28, 32, Flux.relu),\n",
    "        Dense(32, 10)\n",
    "        ) |> device\n",
    "end\n",
    "\n",
    "flux_loss(ŷ, y) = logitcrossentropy(ŷ, y)"
   ]
  },
  {
   "cell_type": "code",
   "execution_count": 34,
   "metadata": {},
   "outputs": [
    {
     "data": {
      "text/plain": [
       "eval_accuracy_loss (generic function with 1 method)"
      ]
     },
     "metadata": {},
     "output_type": "display_data"
    }
   ],
   "source": [
    "function eval_accuracy_loss(loader, model, device)\n",
    "  l = 0.0f0\n",
    "  acc = 0\n",
    "  ntot = 0\n",
    "  for (x, y) in loader\n",
    "    x, y = x |> device, y |> device\n",
    "    ŷ = model(x)\n",
    "    l += flux_loss(ŷ, y) * size(x)[end]\n",
    "    acc += sum(onecold(ŷ |> cpu) .== onecold(y |> cpu))\n",
    "    ntot += size(x)[end]\n",
    "  end\n",
    "  return (acc = acc / ntot, loss = l / ntot)\n",
    "end"
   ]
  },
  {
   "cell_type": "code",
   "execution_count": 35,
   "metadata": {},
   "outputs": [
    {
     "data": {
      "text/plain": [
       "train! (generic function with 1 method)"
      ]
     },
     "metadata": {},
     "output_type": "display_data"
    }
   ],
   "source": [
    "function train!(model, train_loader, opt)\n",
    "    ps = Flux.params(model)\n",
    "    for _ = 1:num_epochs\n",
    "      for (x, y) in train_loader\n",
    "        x = device(x)\n",
    "        y = device(y)\n",
    "        gs = Flux.gradient(ps) do\n",
    "          ŷ = model(x)\n",
    "          flux_loss(ŷ, y)\n",
    "        end\n",
    "        Flux.Optimise.update!(opt, ps, gs)\n",
    "      end\n",
    "    end\n",
    "  end"
   ]
  },
  {
   "cell_type": "code",
   "execution_count": 36,
   "metadata": {},
   "outputs": [
    {
     "name": "stdout",
     "output_type": "stream",
     "text": [
      "Flux run #1\n",
      "  create model: 0.001560 seconds (129 allocations: 204.828 KiB)\n"
     ]
    },
    {
     "name": "stdout",
     "output_type": "stream",
     "text": [
      "  train 10 epochs: 1.003846 seconds (809.96 k allocations: 61.771 MiB, 4.86% gc time, 16.57% compilation time: 11% of which was recompilation)\n",
      "  compute training loss: 0.027564 seconds (21.54 k allocations: 1.859 MiB, 87.71% compilation time)\n",
      "    training accuracy 90.14, loss 0.3989\n",
      "  compute test loss: 0.024723 seconds (13.71 k allocations: 6.758 MiB)\n",
      "    training accuracy 89.55, loss 0.4159\n",
      "------------------------------------\n",
      "Flux run #2\n",
      "  create model: 0.000185 seconds (78 allocations: 201.422 KiB)\n"
     ]
    },
    {
     "name": "stdout",
     "output_type": "stream",
     "text": [
      "  train 10 epochs: 0.526895 seconds (529.26 k allocations: 47.701 MiB, 3.31% gc time)\n",
      "  compute training loss: 0.002859 seconds (2.31 k allocations: 918.641 KiB)\n",
      "    training accuracy 89.73, loss 0.4048\n",
      "  compute test loss: 0.020799 seconds (13.71 k allocations: 6.758 MiB)\n",
      "    training accuracy 89.11, loss 0.4225\n",
      "------------------------------------\n"
     ]
    }
   ],
   "source": [
    "for run in 1:2\n",
    "    println(\"Flux run #$run\")\n",
    "    @time \"  create model\" model = flux_model()\n",
    "    opt = ADAM(learning_rate)\n",
    "    @time \"  train $num_epochs epochs\" train!(model, train_loader, opt)\n",
    "    @time \"  compute training loss\" train_acc, train_loss = eval_accuracy_loss(test_loader, model, device)\n",
    "    display_loss(train_acc, train_loss)\n",
    "    @time \"  compute test loss\" test_acc, test_loss = eval_accuracy_loss(train_loader, model, device)\n",
    "    display_loss(test_acc, test_loss)\n",
    "    println(\"------------------------------------\")\n",
    "end"
   ]
  },
  {
   "cell_type": "code",
   "execution_count": 85,
   "metadata": {},
   "outputs": [
    {
     "data": {
      "text/plain": [
       "Chain(\n",
       "  Dense(784 => 32, relu),               \u001b[90m# 25_120 parameters\u001b[39m\n",
       "  Dense(32 => 10),                      \u001b[90m# 330 parameters\u001b[39m\n",
       ") \u001b[90m                  # Total: 4 arrays, \u001b[39m25_450 parameters, 576 bytes."
      ]
     },
     "metadata": {},
     "output_type": "display_data"
    }
   ],
   "source": [
    "model = flux_model()"
   ]
  },
  {
   "cell_type": "code",
   "execution_count": 86,
   "metadata": {},
   "outputs": [],
   "source": [
    "count = 0\n",
    "for layer in model\n",
    "    count += sum(length, Flux.params(layer))\n",
    "    # println(count)\n",
    "    # println(Flux.params(layer))\n",
    "end"
   ]
  },
  {
   "cell_type": "code",
   "execution_count": 87,
   "metadata": {},
   "outputs": [
    {
     "data": {
      "text/plain": [
       "2"
      ]
     },
     "metadata": {},
     "output_type": "display_data"
    }
   ],
   "source": [
    "length(Flux.params(model[1]))"
   ]
  },
  {
   "cell_type": "code",
   "execution_count": 90,
   "metadata": {},
   "outputs": [
    {
     "ename": "MethodError",
     "evalue": "MethodError: no method matching size(::Zygote.Params{Zygote.Buffer{Any, Vector{Any}}})\nClosest candidates are:\n  size(!Matched::Union{LinearAlgebra.QR, LinearAlgebra.QRCompactWY, LinearAlgebra.QRPivoted}) at C:\\Users\\heyia\\AppData\\Local\\Programs\\Julia-1.8.2\\share\\julia\\stdlib\\v1.8\\LinearAlgebra\\src\\qr.jl:581\n  size(!Matched::Union{LinearAlgebra.QR, LinearAlgebra.QRCompactWY, LinearAlgebra.QRPivoted}, !Matched::Integer) at C:\\Users\\heyia\\AppData\\Local\\Programs\\Julia-1.8.2\\share\\julia\\stdlib\\v1.8\\LinearAlgebra\\src\\qr.jl:580\n  size(!Matched::Union{LinearAlgebra.Cholesky, LinearAlgebra.CholeskyPivoted}) at C:\\Users\\heyia\\AppData\\Local\\Programs\\Julia-1.8.2\\share\\julia\\stdlib\\v1.8\\LinearAlgebra\\src\\cholesky.jl:514\n  ...",
     "output_type": "error",
     "traceback": [
      "MethodError: no method matching size(::Zygote.Params{Zygote.Buffer{Any, Vector{Any}}})\n",
      "Closest candidates are:\n",
      "  size(!Matched::Union{LinearAlgebra.QR, LinearAlgebra.QRCompactWY, LinearAlgebra.QRPivoted}) at C:\\Users\\heyia\\AppData\\Local\\Programs\\Julia-1.8.2\\share\\julia\\stdlib\\v1.8\\LinearAlgebra\\src\\qr.jl:581\n",
      "  size(!Matched::Union{LinearAlgebra.QR, LinearAlgebra.QRCompactWY, LinearAlgebra.QRPivoted}, !Matched::Integer) at C:\\Users\\heyia\\AppData\\Local\\Programs\\Julia-1.8.2\\share\\julia\\stdlib\\v1.8\\LinearAlgebra\\src\\qr.jl:580\n",
      "  size(!Matched::Union{LinearAlgebra.Cholesky, LinearAlgebra.CholeskyPivoted}) at C:\\Users\\heyia\\AppData\\Local\\Programs\\Julia-1.8.2\\share\\julia\\stdlib\\v1.8\\LinearAlgebra\\src\\cholesky.jl:514\n",
      "  ...\n",
      "\n",
      "Stacktrace:\n",
      " [1] top-level scope\n",
      "   @ c:\\Users\\heyia\\Desktop\\current-code\\285\\project\\main\\main.ipynb:3"
     ]
    }
   ],
   "source": [
    "for layer in model\n",
    "    p = Flux.params(layer)\n",
    "    size(p)\n",
    "end"
   ]
  },
  {
   "cell_type": "code",
   "execution_count": 81,
   "metadata": {},
   "outputs": [
    {
     "data": {
      "text/plain": [
       "((10,), (10, 32))"
      ]
     },
     "metadata": {},
     "output_type": "display_data"
    }
   ],
   "source": [
    "size(model[1].weight), size(model[1].bias), \n"
   ]
  },
  {
   "cell_type": "code",
   "execution_count": null,
   "metadata": {},
   "outputs": [],
   "source": [
    " size(model[2].weight), size(model[2].bias),"
   ]
  },
  {
   "cell_type": "code",
   "execution_count": 74,
   "metadata": {},
   "outputs": [
    {
     "data": {
      "text/plain": [
       "(32, 784)"
      ]
     },
     "metadata": {},
     "output_type": "display_data"
    }
   ],
   "source": []
  },
  {
   "cell_type": "code",
   "execution_count": 84,
   "metadata": {},
   "outputs": [],
   "source": [
    "for i=1:2\n",
    "    w = size(model[i].weight)\n",
    "    b = size(model[i].bias)\n",
    "    println(\"$w $b\")\n",
    "end"
   ]
  },
  {
   "cell_type": "code",
   "execution_count": 61,
   "metadata": {},
   "outputs": [
    {
     "name": "stdout",
     "output_type": "stream",
     "text": [
      "type of the fieldname weight is CuArray{Float32, 2, CUDA.Mem.DeviceBuffer}\n",
      "type of the fieldname bias is CuArray{Float32, 1, CUDA.Mem.DeviceBuffer}\n",
      "type of the fieldname σ is typeof(NNlib.relu)\n"
     ]
    }
   ],
   "source": [
    "T = typeof(model[1])\n",
    "for (name, typ) in zip(fieldnames(T), T.types)\n",
    "    println(\"type of the fieldname $name is $typ\")\n",
    "end"
   ]
  },
  {
   "cell_type": "code",
   "execution_count": null,
   "metadata": {},
   "outputs": [],
   "source": []
  }
 ],
 "metadata": {
  "kernelspec": {
   "display_name": "Julia 1.8.2",
   "language": "julia",
   "name": "julia-1.8"
  },
  "language_info": {
   "file_extension": ".jl",
   "mimetype": "application/julia",
   "name": "julia",
   "version": "1.8.2"
  },
  "orig_nbformat": 4
 },
 "nbformat": 4,
 "nbformat_minor": 2
}
